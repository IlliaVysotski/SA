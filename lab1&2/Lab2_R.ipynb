{
 "cells": [
  {
   "cell_type": "code",
   "execution_count": 1,
   "metadata": {},
   "outputs": [
    {
     "data": {
      "text/html": [
       "<dl class=dl-horizontal>\n",
       "\t<dt>5%</dt>\n",
       "\t\t<dd>-0.225641592920354</dd>\n",
       "\t<dt>95%</dt>\n",
       "\t\t<dd>-0.165265486725664</dd>\n",
       "</dl>\n"
      ],
      "text/latex": [
       "\\begin{description*}\n",
       "\\item[5\\textbackslash{}\\%] -0.225641592920354\n",
       "\\item[95\\textbackslash{}\\%] -0.165265486725664\n",
       "\\end{description*}\n"
      ],
      "text/markdown": [
       "5%\n",
       ":   -0.22564159292035495%\n",
       ":   -0.165265486725664\n",
       "\n"
      ],
      "text/plain": [
       "        5%        95% \n",
       "-0.2256416 -0.1652655 "
      ]
     },
     "metadata": {},
     "output_type": "display_data"
    },
    {
     "data": {
      "text/html": [
       "<dl class=dl-horizontal>\n",
       "\t<dt>5%</dt>\n",
       "\t\t<dd>5.81096238938053</dd>\n",
       "\t<dt>95%</dt>\n",
       "\t\t<dd>6.23029867256637</dd>\n",
       "</dl>\n"
      ],
      "text/latex": [
       "\\begin{description*}\n",
       "\\item[5\\textbackslash{}\\%] 5.81096238938053\n",
       "\\item[95\\textbackslash{}\\%] 6.23029867256637\n",
       "\\end{description*}\n"
      ],
      "text/markdown": [
       "5%\n",
       ":   5.8109623893805395%\n",
       ":   6.23029867256637\n",
       "\n"
      ],
      "text/plain": [
       "      5%      95% \n",
       "5.810962 6.230299 "
      ]
     },
     "metadata": {},
     "output_type": "display_data"
    },
    {
     "data": {
      "text/html": [
       "<dl class=dl-horizontal>\n",
       "\t<dt>5%</dt>\n",
       "\t\t<dd>0.11522683368326</dd>\n",
       "\t<dt>95%</dt>\n",
       "\t\t<dd>0.196045300021584</dd>\n",
       "</dl>\n"
      ],
      "text/latex": [
       "\\begin{description*}\n",
       "\\item[5\\textbackslash{}\\%] 0.11522683368326\n",
       "\\item[95\\textbackslash{}\\%] 0.196045300021584\n",
       "\\end{description*}\n"
      ],
      "text/markdown": [
       "5%\n",
       ":   0.1152268336832695%\n",
       ":   0.196045300021584\n",
       "\n"
      ],
      "text/plain": [
       "       5%       95% \n",
       "0.1152268 0.1960453 "
      ]
     },
     "metadata": {},
     "output_type": "display_data"
    },
    {
     "data": {
      "text/html": [
       "<dl class=dl-horizontal>\n",
       "\t<dt>5%</dt>\n",
       "\t\t<dd>6.63659897376528</dd>\n",
       "\t<dt>95%</dt>\n",
       "\t\t<dd>9.20533227047073</dd>\n",
       "</dl>\n"
      ],
      "text/latex": [
       "\\begin{description*}\n",
       "\\item[5\\textbackslash{}\\%] 6.63659897376528\n",
       "\\item[95\\textbackslash{}\\%] 9.20533227047073\n",
       "\\end{description*}\n"
      ],
      "text/markdown": [
       "5%\n",
       ":   6.6365989737652895%\n",
       ":   9.20533227047073\n",
       "\n"
      ],
      "text/plain": [
       "      5%      95% \n",
       "6.636599 9.205332 "
      ]
     },
     "metadata": {},
     "output_type": "display_data"
    },
    {
     "name": "stdout",
     "output_type": "stream",
     "text": [
      "With unknown variances: "
     ]
    },
    {
     "data": {
      "text/plain": [
       "\n",
       "\tWelch Two Sample t-test\n",
       "\n",
       "data:  q.wave and r.wave\n",
       "t = -46.603, df = 469.03, p-value < 2.2e-16\n",
       "alternative hypothesis: true difference in means is not equal to 0\n",
       "95 percent confidence interval:\n",
       " -6.467651 -5.944296\n",
       "sample estimates:\n",
       " mean of x  mean of y \n",
       "-0.1929204  6.0130531 \n"
      ]
     },
     "metadata": {},
     "output_type": "display_data"
    },
    {
     "name": "stdout",
     "output_type": "stream",
     "text": [
      "Conclusion: means are significantly different\n",
      "\n",
      "With known variances: \n",
      "Outcome of z-test =  46.603  (for a two-sided hypothesis test the critical value is 1.96, alpha equal to 0.05)\n",
      "Conclusion: means are significantly different"
     ]
    }
   ],
   "source": [
    "z.test2sam = function(a, b, var.a, var.b){\n",
    "   n.a = length(a)\n",
    "   n.b = length(b)\n",
    "   zeta = (mean(a) - mean(b)) / (sqrt(var.a/n.a + var.b/n.b))\n",
    "   return(zeta)\n",
    "}\n",
    "\n",
    "confidence.interval = 0.95\n",
    "\n",
    "#read data\n",
    "data.matrix <- read.table(\"21-arrhythmia.txt\", sep = \",\")\n",
    "q.wave <- data.matrix[, 161]\n",
    "r.wave <- data.matrix[, 162]\n",
    "\n",
    "# mean\n",
    "q.wave.mean <- mean(q.wave)\n",
    "r.wave.mean <- mean(r.wave)\n",
    "\n",
    "# variance\n",
    "q.wave.var <- var(q.wave)\n",
    "r.wave.var <- var(r.wave)\n",
    "\n",
    "# quantiles\n",
    "quantile(replicate(length(q.wave), mean(sample(q.wave, rep=TRUE))), c(1 - confidence.interval, confidence.interval))\n",
    "quantile(replicate(length(r.wave), mean(sample(r.wave, rep=TRUE))), c(1 - confidence.interval, confidence.interval))\n",
    "\n",
    "# quantiles\n",
    "quantile(replicate(length(q.wave), var(sample(q.wave, rep=TRUE))), c(1 - confidence.interval, confidence.interval))\n",
    "quantile(replicate(length(r.wave), var(sample(r.wave, rep=TRUE))), c(1 - confidence.interval, confidence.interval))\n",
    "\n",
    "# hypothesis testing\n",
    "cat(\"With unknown variances: \")\n",
    "t.test(q.wave, r.wave, conf.level = confidence.interval)\n",
    "cat(\"Conclusion: means are significantly different\\n\\n\")\n",
    "cat(\"With known variances: \\n\")\n",
    "cat(\"Outcome of z-test = \", z.test2sam(r.wave, q.wave, q.wave.var, r.wave.var), \" (for a two-sided hypothesis test the critical value is 1.96, alpha equal to 0.05)\")\n",
    "cat(\"\\nConclusion: means are significantly different\")\n",
    "#z.test(q.wave, r.wave, conf.level = confidence.interval)\n",
    "#var.test(q.wave, r.wave, conf.level = confidence.interval)"
   ]
  },
  {
   "cell_type": "code",
   "execution_count": null,
   "metadata": {},
   "outputs": [],
   "source": []
  }
 ],
 "metadata": {
  "kernelspec": {
   "display_name": "R",
   "language": "R",
   "name": "ir"
  },
  "language_info": {
   "codemirror_mode": "r",
   "file_extension": ".r",
   "mimetype": "text/x-r-source",
   "name": "R",
   "pygments_lexer": "r",
   "version": "3.5.1"
  }
 },
 "nbformat": 4,
 "nbformat_minor": 2
}
