{
 "cells": [
  {
   "cell_type": "code",
   "execution_count": 1,
   "metadata": {},
   "outputs": [
    {
     "data": {
      "text/plain": [
       "<Figure size 640x480 with 1 Axes>"
      ]
     },
     "metadata": {},
     "output_type": "display_data"
    },
    {
     "data": {
      "text/plain": [
       "<Figure size 640x480 with 1 Axes>"
      ]
     },
     "metadata": {},
     "output_type": "display_data"
    },
    {
     "name": "stdout",
     "output_type": "stream",
     "text": [
      "Explore:\n",
      "First image:  {'mean': 91.7561, 'std': 43.2042730848466, 'mode': 70, 'median': 80.0}\n",
      "Second image:  {'mean': 101.6791, 'std': 65.95577551048885, 'mode': 49, 'median': 70.0}\n",
      "Histogram correlation:  0.3877845128026241\n",
      "Images` correlation [[252 144  28 ... 191  20 238]\n",
      " [250 206 127 ... 140 125  70]\n",
      " [185  56 169 ...  45 235  79]\n",
      " ...\n",
      " [ 27 131 212 ...   6 231  18]\n",
      " [ 86 217 169 ...  51 235 204]\n",
      " [166  45 185 ...  11 186 217]]\n",
      "\n",
      "Hypothesis:\n",
      "\n",
      "Test Statistic: 203431.62065410364\n",
      "p-value: 0.0\n",
      "Test Statistic: 427832.69356141036\n",
      "p-value: 0.0\n",
      "KstestResult(statistic=0.9999999990134123, pvalue=0.0)\n",
      "KstestResult(statistic=0.9989683287581669, pvalue=0.0)\n"
     ]
    }
   ],
   "source": [
    "from PIL import Image\n",
    "from pylab import *\n",
    "import scipy.stats as st\n",
    "import scipy.signal as sign\n",
    "import numpy as np\n",
    "\n",
    "file_path = '../resources/'\n",
    "IMG1_NAME = 'img1.jpg'\n",
    "IMG2_NAME = 'img2.jpg'\n",
    "\n",
    "\n",
    "def create_grayscale_img(img_name):\n",
    "\n",
    "    def transform_img(img_name):\n",
    "        image = Image.open(file_path + img_name).convert('L')  # Открываем изображение и конвертируем в полутоновое\n",
    "\n",
    "        return image\n",
    "\n",
    "    image = transform_img(img_name)\n",
    "    image.save(file_path + \"grayscale_\" + img_name)\n",
    "    return image\n",
    "\n",
    "\n",
    "def analize_img(image):\n",
    "    hist_data = array(image).flatten()\n",
    "    stat = {}\n",
    "\n",
    "    stat.update([\n",
    "        ('mean', np.mean(hist_data)),\n",
    "        ('std', np.std(hist_data)),\n",
    "        ('mode', st.mode(hist_data)[0][0]),\n",
    "        ('median', np.median(hist_data))])\n",
    "\n",
    "    return hist_data, stat\n",
    "\n",
    "\n",
    "def img_histogram(image):\n",
    "\n",
    "    def show_histogram(data, bins):\n",
    "        figure()\n",
    "        hist(data, bins)\n",
    "        show()\n",
    "\n",
    "    img_array = array(image).flatten()\n",
    "    show_histogram(img_array, 26)\n",
    "\n",
    "\n",
    "def img_correlation(img1, img2):\n",
    "    x = np.array(img1)\n",
    "    y = np.array(img2)\n",
    "\n",
    "    return sign.correlate2d(x, y)\n",
    "\n",
    "def hyp_check_ks(_dataset):\n",
    "    print(st.kstest(_dataset, cdf='norm'))\n",
    "\n",
    "def hyp_check_chi2(_dataset):\n",
    "    chi2, p = st.chisquare(_dataset)\n",
    "    msg = \"Test Statistic: {}\\np-value: {}\"\n",
    "    print(msg.format(chi2, p))\n",
    "\n",
    "def main():\n",
    "    image1 = create_grayscale_img(IMG1_NAME)\n",
    "    image2 = create_grayscale_img(IMG2_NAME)\n",
    "\n",
    "    img_histogram(image1)\n",
    "    img_histogram(image2)\n",
    "\n",
    "    hist1, hist_stat1 = analize_img(image1)\n",
    "    hist2, hist_stat2 = analize_img(image2)\n",
    "\n",
    "    print('Explore:')\n",
    "    print(\"First image: \", hist_stat1)\n",
    "    print(\"Second image: \", hist_stat2)\n",
    "\n",
    "    print(\"Histogram correlation: \",\n",
    "          np.corrcoef(\n",
    "              np.asarray(hist1).flatten(),\n",
    "              np.asarray(hist2).flatten()\n",
    "          )[1, 0])\n",
    "\n",
    "    print('Images` correlation', img_correlation(image1, image2))\n",
    "\n",
    "    print('\\nHypothesis:\\n')\n",
    "    hyp_check_chi2(hist1)\n",
    "    hyp_check_chi2(hist2)\n",
    "\n",
    "    hyp_check_ks(hist1)\n",
    "    hyp_check_ks(hist2)\n",
    "\n",
    "\n",
    "if __name__ == \"__main__\":\n",
    "    main()"
   ]
  },
  {
   "cell_type": "code",
   "execution_count": null,
   "metadata": {},
   "outputs": [],
   "source": []
  }
 ],
 "metadata": {
  "kernelspec": {
   "display_name": "Python 3",
   "language": "python",
   "name": "python3"
  },
  "language_info": {
   "codemirror_mode": {
    "name": "ipython",
    "version": 3
   },
   "file_extension": ".py",
   "mimetype": "text/x-python",
   "name": "python",
   "nbconvert_exporter": "python",
   "pygments_lexer": "ipython3",
   "version": "3.7.1"
  }
 },
 "nbformat": 4,
 "nbformat_minor": 2
}
